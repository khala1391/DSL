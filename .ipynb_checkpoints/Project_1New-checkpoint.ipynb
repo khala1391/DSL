{
 "cells": [
  {
   "cell_type": "code",
   "execution_count": null,
   "id": "0849700b-ea37-49df-b542-f1219aaf766b",
   "metadata": {},
   "outputs": [],
   "source": [
    "import numpy as np\n",
    "import pandas as pd\n",
    "import matplotlib.pyplot as plt\n",
    "import seaborn as sns\n",
    "%matplotlib inline"
   ]
  },
  {
   "cell_type": "code",
   "execution_count": null,
   "id": "2aafeb14-d356-4444-9119-b58ec893f361",
   "metadata": {},
   "outputs": [],
   "source": [
    "url = 'https://github.com/khala1391/DSL/raw/main/project_1_Weather_Dataset.csv'\n",
    "df = pd.read_csv( url , index_col='Date/Time', parse_dates=['Date/Time'])\n",
    "df"
   ]
  },
  {
   "cell_type": "code",
   "execution_count": null,
   "id": "184fd479-8525-4374-9bcf-af9a242d6a91",
   "metadata": {},
   "outputs": [],
   "source": [
    "df.rename(columns={'Dew Point Temp_C':'Dew_Point_Temp_C',\\\n",
    "                   'Rel Hum_%':'Rel_Hum_%',\\\n",
    "                   'Wind Speed_km/h':'Wind_Speed_km/h'},\\\n",
    "                  inplace=True)"
   ]
  },
  {
   "cell_type": "code",
   "execution_count": null,
   "id": "c2bd2934-dc57-424a-9e98-121729845520",
   "metadata": {},
   "outputs": [],
   "source": [
    "df.head(5)"
   ]
  },
  {
   "cell_type": "code",
   "execution_count": null,
   "id": "9ea07dff-4285-4cfc-a132-e7752bcac366",
   "metadata": {},
   "outputs": [],
   "source": [
    "df.info()"
   ]
  },
  {
   "cell_type": "code",
   "execution_count": null,
   "id": "107634e7-8a54-44db-836b-a8e90bf5b1a2",
   "metadata": {},
   "outputs": [],
   "source": [
    "df.isna().any(axis=1).sum()"
   ]
  },
  {
   "cell_type": "code",
   "execution_count": null,
   "id": "aedc3b46-e6db-402c-9212-77a3817476f5",
   "metadata": {},
   "outputs": [],
   "source": [
    "df.isnull().any(axis=1).sum()"
   ]
  },
  {
   "cell_type": "code",
   "execution_count": null,
   "id": "880ae064-74c0-4e88-a9a2-325e10d03169",
   "metadata": {},
   "outputs": [],
   "source": [
    "df.columns"
   ]
  },
  {
   "cell_type": "code",
   "execution_count": null,
   "id": "641b0455-15e3-403f-a6ee-44ae6f96ea3e",
   "metadata": {},
   "outputs": [],
   "source": [
    "df = df.astype({'Temp_C': 'float32',\\\n",
    "            'Dew_Point_Temp_C':'float32',\\\n",
    "            'Rel_Hum_%':'int32',\\\n",
    "            'Wind_Speed_km/h':'int32',\\\n",
    "            'Visibility_km':'float32',\\\n",
    "            'Press_kPa':'float32',\\\n",
    "           # 'Weather':'category'\n",
    "           })"
   ]
  },
  {
   "cell_type": "code",
   "execution_count": null,
   "id": "6ca4fea8-8fd2-43ed-9354-c29a50af82e1",
   "metadata": {},
   "outputs": [],
   "source": [
    "df.Weather.value_counts()"
   ]
  },
  {
   "cell_type": "code",
   "execution_count": null,
   "id": "e2b8cec6-3a14-44f7-892c-d107e23bfc4f",
   "metadata": {},
   "outputs": [],
   "source": [
    "df.hist(figsize=(10,8), bins=40);"
   ]
  },
  {
   "cell_type": "code",
   "execution_count": null,
   "id": "68e69395-a31b-458d-9fc5-8601567f726b",
   "metadata": {},
   "outputs": [],
   "source": [
    "df.describe().round(2).T"
   ]
  },
  {
   "cell_type": "code",
   "execution_count": null,
   "id": "97840c57-e4da-4793-8954-a51504932e4b",
   "metadata": {},
   "outputs": [],
   "source": [
    "df.corr(numeric_only=True).round(3).style.background_gradient(axis=1, vmin =0.5).highlight_min(axis=1, color='pink')"
   ]
  },
  {
   "cell_type": "code",
   "execution_count": null,
   "id": "e4ca4dfe-7221-4ada-9f26-5b1b26cc32ef",
   "metadata": {},
   "outputs": [],
   "source": [
    "type(df.Weather.value_counts()>100)"
   ]
  },
  {
   "cell_type": "code",
   "execution_count": null,
   "id": "179131c6-1092-4d62-81ce-f69f70d68f7c",
   "metadata": {},
   "outputs": [],
   "source": [
    "df_cut = pd.Series.to_frame(df.Weather.value_counts()>=150, name=\"selected\")"
   ]
  },
  {
   "cell_type": "code",
   "execution_count": null,
   "id": "853abecf-df45-4c70-bece-1bf49adea995",
   "metadata": {},
   "outputs": [],
   "source": [
    "df_cut.info()"
   ]
  },
  {
   "cell_type": "code",
   "execution_count": null,
   "id": "0ace5454-578a-45f7-b9d8-1c160ffa9b44",
   "metadata": {},
   "outputs": [],
   "source": [
    "df_cut = df_cut.loc[df_cut.selected].index"
   ]
  },
  {
   "cell_type": "code",
   "execution_count": null,
   "id": "97db95ac-6912-4a01-a8a3-ce9cb8d40ea5",
   "metadata": {},
   "outputs": [],
   "source": [
    "df_cut"
   ]
  },
  {
   "cell_type": "code",
   "execution_count": null,
   "id": "4e2b9654-ccbd-49b5-a4b1-d9cc763eea5b",
   "metadata": {},
   "outputs": [],
   "source": [
    "list = ['Mainly Clear', 'Mostly Cloudy', 'Cloudy', 'Clear', 'Snow','Rain', 'Rain Showers', 'Fog', 'Rain,Fog']"
   ]
  },
  {
   "cell_type": "code",
   "execution_count": null,
   "id": "fd246cc5-ec82-483e-b5b0-4d5fa30666aa",
   "metadata": {},
   "outputs": [],
   "source": [
    "df_cut = df[df['Weather'].isin(list)].copy()"
   ]
  },
  {
   "cell_type": "code",
   "execution_count": null,
   "id": "292fdd5b-c7b0-44f5-beee-d3a95997c57b",
   "metadata": {},
   "outputs": [],
   "source": [
    "df_cut['Weather'].value_counts()"
   ]
  },
  {
   "cell_type": "code",
   "execution_count": null,
   "id": "cb778ee6-0303-4777-9947-cd9c46e8524b",
   "metadata": {},
   "outputs": [],
   "source": [
    "df = df.astype({'Weather':'category'})\n",
    "df.info()"
   ]
  },
  {
   "cell_type": "code",
   "execution_count": null,
   "id": "69fb65f5-f2e1-46f4-b055-fa8c2a2fc1f6",
   "metadata": {},
   "outputs": [],
   "source": []
  },
  {
   "cell_type": "code",
   "execution_count": null,
   "id": "f6c47094-d0d5-4d19-a97e-6110edbebb01",
   "metadata": {},
   "outputs": [],
   "source": [
    "df['Temp_C'].resample('QE').mean().plot(kind='line');"
   ]
  },
  {
   "cell_type": "code",
   "execution_count": null,
   "id": "9fdbdb4f-f178-47e4-b6a8-4642924f9b13",
   "metadata": {},
   "outputs": [],
   "source": [
    "df['Temp_C'].resample('ME').mean().plot(kind='line');"
   ]
  },
  {
   "cell_type": "code",
   "execution_count": null,
   "id": "01fc1f37-2f50-43e9-8f67-aa2678888663",
   "metadata": {},
   "outputs": [],
   "source": [
    "df['Temp_C'].resample('D').mean().plot(kind='line');"
   ]
  },
  {
   "cell_type": "code",
   "execution_count": null,
   "id": "bf05ec24-21ea-43da-acda-2c042ada92ce",
   "metadata": {},
   "outputs": [],
   "source": [
    "df[['Temp_C', 'Dew_Point_Temp_C', 'Rel_Hum_%', 'Wind_Speed_km/h','Visibility_km', 'Press_kPa']]\\\n",
    ".resample('ME').mean().plot(kind='line',figsize=(12, 5) );"
   ]
  },
  {
   "cell_type": "code",
   "execution_count": null,
   "id": "f09c877d-5fdc-471c-9f77-5e5c579ff63e",
   "metadata": {},
   "outputs": [],
   "source": [
    "df[['Temp_C','Dew_Point_Temp_C']].plot.density();"
   ]
  }
 ],
 "metadata": {
  "kernelspec": {
   "display_name": "Python 3 (ipykernel)",
   "language": "python",
   "name": "python3"
  },
  "language_info": {
   "codemirror_mode": {
    "name": "ipython",
    "version": 3
   },
   "file_extension": ".py",
   "mimetype": "text/x-python",
   "name": "python",
   "nbconvert_exporter": "python",
   "pygments_lexer": "ipython3",
   "version": "3.11.9"
  }
 },
 "nbformat": 4,
 "nbformat_minor": 5
}
